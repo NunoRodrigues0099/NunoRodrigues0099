{
 "metadata": {
  "language_info": {
   "codemirror_mode": {
    "name": "ipython",
    "version": 3
   },
   "file_extension": ".py",
   "mimetype": "text/x-python",
   "name": "python",
   "nbconvert_exporter": "python",
   "pygments_lexer": "ipython3",
   "version": "3.8.2"
  },
  "orig_nbformat": 4,
  "kernelspec": {
   "name": "python3",
   "display_name": "Python 3.8.2 64-bit"
  },
  "interpreter": {
   "hash": "31f2aee4e71d21fbe5cf8b01ff0e069b9275f58929596ceb00d14d90e3e16cd6"
  }
 },
 "nbformat": 4,
 "nbformat_minor": 2,
 "cells": [
  {
   "cell_type": "code",
   "execution_count": null,
   "metadata": {},
   "outputs": [],
   "source": [
    "import datetime\n",
    "import requests\n",
    "import pandas as pd\n",
    "import numpy as np\n",
    "from pathlib import Path\n",
    "\n",
    "import matplotlib.pyplot as plt\n",
    "%matplotlib inline\n",
    "plt.style.use('dark_background')\n"
   ]
  },
  {
   "cell_type": "code",
   "execution_count": null,
   "metadata": {},
   "outputs": [],
   "source": [
    "SAVE_IMAGES = True\n",
    "\n",
    "def plot(axes, title=None, file=None, ylim=None, pppp=plt, xticks=None):\n",
    "    if title: axes.set_title(title)\n",
    "    axes.legend(loc=\"upper left\")\n",
    "    axes.set_xlim(None, None)\n",
    "    axes.autoscale()\n",
    "    pppp.tight_layout()\n",
    "    if ylim: \n",
    "        if type(ylim) == int: pppp.ylim(ylim)\n",
    "        else: pppp.ylim(ylim[0], ylim[1])\n",
    "    # print(f\"ylim={ylim} type={type(ylim)} int={type(ylim)==int}\")\n",
    "    if xticks: pppp.xticks(xticks, rotation=90)\n",
    "    if SAVE_IMAGES and file: pppp.savefig(file)\n",
    "    return pppp\n",
    "\n",
    "def f(valor, plus=False):\n",
    "    if valor is None: return None\n",
    "    valor = valor if type(valor) == int else float(valor)\n",
    "    r = format(valor, \",\").replace(\".\",\"!\").replace(\",\",\".\").replace(\"!\",\",\")\n",
    "    return f\"+{r}\" if plus and valor > 0 else r\n"
   ]
  },
  {
   "cell_type": "code",
   "execution_count": null,
   "metadata": {},
   "outputs": [],
   "source": [
    "# População residente em PT final 2019, via\n",
    "# https://www.ine.pt/xportal/xmain?xpid=INE&xpgid=ine_indicadores&contecto=pi&indOcorrCod=0008273&selTab=tab0\n",
    "# Coerente com a soma da população dos concelhos, vide POP_ARS abaixo\n",
    "POP_PT = 10295909\n",
    "\n",
    "# data_concelhos_new.csv:\n",
    "# df[df.data == '11-11-2020'][[\"ars\", \"population\"]].groupby('ars').sum()\n",
    "POP_ARS = {\n",
    "    'norte':   3568835,  # 3.57M\n",
    "    'centro':  1650394,  # 1.65M\n",
    "    'lvt':     3674534,  # 3.67M\n",
    "    'alentejo': 466690,  # 0.46M\n",
    "    'algarve':  438406,  # 0.44M\n",
    "    'acores':   242796,  # 0.24M\n",
    "    'madeira':  254254,  # 0.25M\n",
    "}\n",
    "POP_IDADE = {\n",
    "    '0_9':     433332 + 461299,  #  0-04 + 05-09\n",
    "    '10_19':   507646 + 549033,  # 10-14 + 15-19\n",
    "    '20_29':   544575 + 547505,  # 20-24 + 25-29\n",
    "    '30_39':   571355 + 679093,  # 30-34 + 35-39\n",
    "    '40_49':   792670 + 782555,  # 40-44 + 45-49\n",
    "    '50_59':   747581 + 734540,  # 50-54 + 55-59\n",
    "    '60_69':   672758 + 620543,  # 60-64 + 65-69\n",
    "    '70_79':   544016 + 429107,  # 70-74 + 75-79\n",
    "    '80_plus': 352218 + 316442,  # 80-84 + 85 ou mais\n",
    "}\n"
   ]
  },
  {
   "cell_type": "code",
   "execution_count": null,
   "metadata": {},
   "outputs": [],
   "source": [
    "# read data and reindex by date, for plots\n",
    "data = pd.read_csv(Path.cwd() / '..' / '..' / 'data.csv', parse_dates=['data'], index_col='data', dayfirst=True)\n",
    "data.tail(1).index\n"
   ]
  },
  {
   "cell_type": "code",
   "execution_count": null,
   "metadata": {},
   "outputs": [],
   "source": [
    "df = data.copy()\n",
    "\n",
    "AJUSTE = 1 # duplica incidencia7 \n",
    "\n",
    "# 14 day accumulated, and per 100k and population\n",
    "df['confirmados14'] = df.confirmados.diff(14)\n",
    "df['incidencia'] = df.confirmados14 * 100_000 / POP_PT\n",
    "df['confirmados_7'] = df.confirmados.diff(7)\n",
    "df['incidencia_7'] = df.confirmados_7 * 100_000 / POP_PT * AJUSTE\n",
    "\n",
    "for i in POP_ARS.keys():\n",
    "  # per region, 14 day accumulated, and per 100k and population\n",
    "  ii = i if i in ['acores', 'madeira'] else f'ars{i}'\n",
    "  df[f'confirmados_{i}_14'] = df[f'confirmados_{ii}'].diff(14)\n",
    "  df[f'incidencia_{i}'] = df[f'confirmados_{i}_14'] * 100_000 / POP_ARS[i]\n",
    "  df[f'confirmados_{i}_7'] = df[f'confirmados_{ii}'].diff(7)\n",
    "  df[f'incidencia_{i}_7'] = df[f'confirmados_{i}_7'] * 100_000 / POP_ARS[i] * AJUSTE\n",
    "\n",
    "for i in POP_IDADE.keys():\n",
    "  # por idade, 14 day accumulated, and per 100k and population\n",
    "  ii = i\n",
    "  df[f'confirmados_{i}'] = df[f'confirmados_{ii}_m'] + df[f'confirmados_{ii}_f']\n",
    "  df[f'confirmados_{i}_14'] = df[f'confirmados_{ii}'].diff(14)\n",
    "  df[f'incidencia_{i}'] = df[f'confirmados_{i}_14'] * 100_000 / POP_IDADE[i]\n",
    "  df[f'confirmados_{i}_7'] = df[f'confirmados_{ii}'].diff(7)\n",
    "  df[f'incidencia_{i}_7'] = df[f'confirmados_{i}_7'] * 100_000 / POP_IDADE[i] * AJUSTE\n",
    "\n",
    "# discard first 13 days\n",
    "df = df[ df.confirmados14.notnull() ]\n",
    "df_incidencia = df\n"
   ]
  },
  {
   "cell_type": "code",
   "execution_count": null,
   "metadata": {},
   "outputs": [],
   "source": [
    "df_incidencia_max = df_incidencia[[col for col in df_incidencia.columns if 'incidencia' in col and not '_7' in col]].max()\n",
    "incidencia_max = df_incidencia_max.max()\n",
    "print(incidencia_max)\n",
    "df_incidencia_max\n"
   ]
  },
  {
   "cell_type": "code",
   "execution_count": null,
   "metadata": {},
   "outputs": [],
   "source": [
    "def foo(k, n=None, df=df, days=14):\n",
    "  BOOM = incidencia_max\n",
    "  #BOOM = 1000 # 2000\n",
    "  fig, axes = plt.subplots(figsize=(15,8))\n",
    "\n",
    "  k = k if days == 14 else f\"{k}_{days}\"\n",
    "  i = 960 * days / 14\n",
    "  axes.fill_between(df.index, 0, df[k], color=\"#592212\", label=f\">{i/1}\")\n",
    "  axes.fill_between(df.index, 0, df[k], where=df[k] < i/1, color=\"#700\", label=f\"{i/2} a <{i/1}\")\n",
    "  axes.fill_between(df.index, 0, df[k], where=df[k] < i/2, color=\"red\", label=f\"{i/4} a <{i/2}\")\n",
    "  axes.fill_between(df.index, 0, df[k], where=df[k] < i/4, color=\"orange\", label=f\"{i/8} a <{i/4}\")\n",
    "  axes.fill_between(df.index, 0, df[k], where=df[k] < i/8, color=\"yellow\", label=f\"{i/16} a <{i/8}\")\n",
    "  axes.fill_between(df.index, 0, df[k], where=df[k] < i/16, color=\"green\", label=f\"<{i/16}\")\n",
    "\n",
    "  axes.axhline(linewidth=2, ls=\"--\", color='#592212', y=i/1)\n",
    "  axes.axhline(linewidth=2, ls=\"--\", color='#700', y=i/2)\n",
    "  axes.axhline(linewidth=2, ls=\"--\", color='red', y=i/4)\n",
    "  axes.axhline(linewidth=2, ls=\"--\", color='orange', y=i/8)\n",
    "  axes.axhline(linewidth=2, ls=\"--\", color='yellow', y=i/16)\n",
    "  #axes.axhline(linewidth=2, ls=\"--\", color='green', y=0)\n",
    "\n",
    "  prev=-1\n",
    "  last = float(df[k][prev])\n",
    "  while np.isnan(last):\n",
    "    prev -= 1\n",
    "    last = float(df[k][prev])\n",
    "\n",
    "  axes.axhline(linewidth=2, ls=\"--\", color='white', y=last)\n",
    "\n",
    "  axes.legend()\n",
    "  plt.xticks(list(reversed(list(reversed(list(df.index)))[0::7])), rotation=90)\n",
    "\n",
    "  suffix = \"\" if days == 14 else f\"_{days}\"\n",
    "  more = \"\" if days == 14 else f\" (equivalente a {round(last*2, 1)} para 14 dias)\"\n",
    "  plot(axes, title=f'Incidência {days} dias para {n or k}: {round(last, 1)}{more}', file=f\"../../temp/incidencia_{n or k}{suffix}.png\", ylim=(0, BOOM * days / 14)).show()\n"
   ]
  },
  {
   "cell_type": "code",
   "execution_count": null,
   "metadata": {},
   "outputs": [],
   "source": [
    "foo('incidencia', 'Nacional', df_incidencia)\n",
    "foo('incidencia', 'Nacional', df_incidencia, 7)\n"
   ]
  },
  {
   "cell_type": "code",
   "execution_count": null,
   "metadata": {},
   "outputs": [],
   "source": [
    "for k in POP_ARS.keys():\n",
    "  foo(f'incidencia_{k}', k, df_incidencia)\n",
    "  foo(f'incidencia_{k}', k, df_incidencia, 7)\n",
    "  print()\n"
   ]
  },
  {
   "cell_type": "code",
   "execution_count": null,
   "metadata": {},
   "outputs": [],
   "source": [
    "for k in POP_IDADE.keys():\n",
    "  foo(f'incidencia_{k}', k, df_incidencia)\n",
    "  foo(f'incidencia_{k}', k, df_incidencia, 7)\n",
    "  print()\n"
   ]
  },
  {
   "cell_type": "code",
   "execution_count": null,
   "metadata": {},
   "outputs": [],
   "source": [
    "df = df_incidencia\n",
    "for k in POP_ARS.keys():\n",
    "  mask = (df[f'incidencia_{k}'] >= 120)\n",
    "  q = df[mask]\n",
    "  q = q[[f'incidencia_{k}']]\n",
    "  q['region'] = k\n",
    "  print(q.head(1).append(q.tail(1)))\n"
   ]
  },
  {
   "cell_type": "code",
   "execution_count": null,
   "metadata": {},
   "outputs": [],
   "source": []
  }
 ]
}